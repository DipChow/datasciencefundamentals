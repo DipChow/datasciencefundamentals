{
  "nbformat": 4,
  "nbformat_minor": 0,
  "metadata": {
    "colab": {
      "provenance": []
    },
    "kernelspec": {
      "name": "python3",
      "display_name": "Python 3"
    },
    "language_info": {
      "name": "python"
    }
  },
  "cells": [
    {
      "cell_type": "markdown",
      "source": [
        "# 3.2.3 The Mann-Whitney U test\n",
        "\n",
        "- Perform a Mann-Whitney U test.\n",
        "- Perform a Wilcoxon signed-rank test.\n",
        "- Interpret the output of these tests."
      ],
      "metadata": {
        "id": "b9SQsR4WZBbN"
      }
    },
    {
      "cell_type": "markdown",
      "source": [
        "Also known as the Wilcoxon rank-sum test, the Mann–Whitney U test is a non-parametric statistical test employed to compare the difference(s) between two independent groups.\n",
        "\n",
        "Consider the following scenario: AB Consulting is conducting a survey among their employees to determine the effectiveness of two training programmes in improving employee productivity. They divide the participants into two groups of eight people. Participants have to write a test after completing the training programme. The higher the mark, the better the productivity of the participants. The following table indicates the test scores of participants out of 40:\n",
        "\n",
        "|Group 1|Group 2|\n",
        "|---|---|\n",
        "12|18|\n",
        "14|20|\n",
        "15|21|\n",
        "19|25|\n",
        "22|28|\n",
        "24|33|\n",
        "29|36|\n",
        "30|40|\n",
        "\n",
        "The hypotheses are:\n",
        "- $H_0$: There is no difference in median productivity between the two groups.\n",
        "- $H_a$: There is a significant difference in median productivity between the two groups.\n",
        "\n"
      ],
      "metadata": {
        "id": "UTSwYMzoZxdi"
      }
    },
    {
      "cell_type": "code",
      "execution_count": null,
      "metadata": {
        "id": "N5zQA1ViI9pp"
      },
      "outputs": [],
      "source": [
        "# Import the necessary libraries.\n",
        "import numpy as np\n",
        "from scipy.stats import mannwhitneyu"
      ]
    },
    {
      "cell_type": "code",
      "source": [
        "# Create sample data for the Mann–Whitney U test.\n",
        "group1 = np.array([12, 14, 15, 19,\n",
        "                   22, 24, 29, 30])\n",
        "group2 = np.array([18, 20, 21, 25,\n",
        "                   28, 33, 36, 40])"
      ],
      "metadata": {
        "id": "pEnPzdHAJUfN"
      },
      "execution_count": null,
      "outputs": []
    },
    {
      "cell_type": "code",
      "source": [
        "# Perform the Mann–Whitney U test.\n",
        "mannwhitney_stat, mannwhitney_p = mannwhitneyu(group1,\n",
        "                                               group2)\n",
        "\n",
        "# View the output.\n",
        "print(\"Mann-Whitney statistic:\", mannwhitney_stat)\n",
        "print(\"Mann-Whitney p-value:\", mannwhitney_p)"
      ],
      "metadata": {
        "colab": {
          "base_uri": "https://localhost:8080/"
        },
        "id": "mAEJ-QgSc78M",
        "outputId": "3cbd5571-b7a6-4fa0-86da-e5a4795f2522"
      },
      "execution_count": null,
      "outputs": [
        {
          "output_type": "stream",
          "name": "stdout",
          "text": [
            "Mann-Whitney statistic: 17.0\n",
            "Mann-Whitney p-value: 0.13038073038073036\n"
          ]
        }
      ]
    },
    {
      "cell_type": "markdown",
      "source": [
        "The output indicates the test statistic ($U$) value is 17.0. The $p$-value is approximately 0.1304. Since the $p$-value is greater than the common alpha ($\\alpha$) level of 0.05, we would not reject $H_0$, indicating that there is no significant difference between the two groups based on the provided data."
      ],
      "metadata": {
        "id": "5Vz4rm1NZ6Nz"
      }
    },
    {
      "cell_type": "markdown",
      "source": [
        "# Key information\n",
        "\n",
        "The interpretation of the $p$-values would depend on the $\\alpha$ level you set for your test (commonly 0.05 for a 5% significance level).​"
      ],
      "metadata": {
        "id": "L6aOrnvbYxq2"
      }
    }
  ]
}