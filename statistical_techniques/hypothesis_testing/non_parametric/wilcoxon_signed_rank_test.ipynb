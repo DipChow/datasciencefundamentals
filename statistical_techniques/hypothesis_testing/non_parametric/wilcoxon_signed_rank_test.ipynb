{
  "nbformat": 4,
  "nbformat_minor": 0,
  "metadata": {
    "colab": {
      "provenance": []
    },
    "kernelspec": {
      "name": "python3",
      "display_name": "Python 3"
    },
    "language_info": {
      "name": "python"
    }
  },
  "cells": [
    {
      "cell_type": "markdown",
      "source": [
        "# The Wilcoxon signed-rank test\n",
        "\n",
        "- Perform a Mann-Whitney U test.\n",
        "- Perform a Wilcoxon signed-rank test.\n",
        "- Interpret the output of these tests."
      ],
      "metadata": {
        "id": "b9SQsR4WZBbN"
      }
    },
    {
      "cell_type": "markdown",
      "source": [
        "A non-parametric statitsical test employed to compare paired samples to determine whether the population mean ranks differ.\n",
        "\n",
        "Consider the following scenario: CU Medical Consultants tested the effectiveness of a new medical treatment for anxiety. The levels of anxiety of seven patients were measured before and after treatment in a pilot study. The results, out of 30, are presented in the following table:\n",
        "\n",
        "|Before|After|\n",
        "|---|---|\n",
        "22|24|\n",
        "20|21|\n",
        "25|27|\n",
        "30|26|\n",
        "22|23|\n",
        "24|25|\n",
        "26|25|\n",
        "\n",
        "The hypotheses are:\n",
        "- $H_0$: The median difference between anxiety levels before and after treatment is zero (the treatment has no effect).\n",
        "- $H_a$: The median difference between anxiety levels before and after treatment is not zero (the treatment has an effect)."
      ],
      "metadata": {
        "id": "PmQ7RvSrZ1VJ"
      }
    },
    {
      "cell_type": "code",
      "source": [
        "# Import the necessary libraries.\n",
        "import numpy as np\n",
        "from scipy.stats import wilcoxon"
      ],
      "metadata": {
        "id": "SvjjB7vOjFn6"
      },
      "execution_count": null,
      "outputs": []
    },
    {
      "cell_type": "code",
      "source": [
        "# Example data for Wilcoxon signed-rank test\n",
        "# The two sets of measurements are related/ paired (e.g., before and after a treatment)\n",
        "data_before = np.array([22, 20, 25,\n",
        "                        30, 22, 24, 26])\n",
        "data_after = np.array([24, 21, 27, 26,\n",
        "                       23, 25, 25])"
      ],
      "metadata": {
        "id": "ZWgJW7PeK7rA"
      },
      "execution_count": null,
      "outputs": []
    },
    {
      "cell_type": "code",
      "source": [
        "# Perform Wilcoxon signed-rank test.\n",
        "wilcoxon_stat, wilcoxon_p = wilcoxon(data_before,\n",
        "                                     data_after)\n",
        "\n",
        "# View the output.\n",
        "print(\"Wilcoxon statistic:\", wilcoxon_stat)\n",
        "print(\"Wilcoxon p-value:\", wilcoxon_p)"
      ],
      "metadata": {
        "colab": {
          "base_uri": "https://localhost:8080/"
        },
        "id": "lvyhJ3B8dB6j",
        "outputId": "9e74fbde-3d64-47ca-fa23-e90781f2b75c"
      },
      "execution_count": null,
      "outputs": [
        {
          "output_type": "stream",
          "name": "stdout",
          "text": [
            "Wilcoxon statistic: 9.5\n",
            "Wilcoxon p-value: 0.46875\n"
          ]
        }
      ]
    },
    {
      "cell_type": "markdown",
      "source": [
        "The output indicates a test statistic value is 9.5. The $p$-value is approximately 0.4688. This $p$-value is also greater than 0.05, suggesting that there is no significant difference between the 'before' and 'after' conditions of the paired data based on the provided data."
      ],
      "metadata": {
        "id": "ZUpfbpqsJQAL"
      }
    },
    {
      "cell_type": "markdown",
      "source": [
        "# Key information\n",
        "The interpretation of the $p$-values would depend on the $\\alpha$ level you set for your test (commonly 0.05 for a 5% significance level).​"
      ],
      "metadata": {
        "id": "L6aOrnvbYxq2"
      }
    }
  ]
}