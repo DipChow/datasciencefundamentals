{
  "nbformat": 4,
  "nbformat_minor": 0,
  "metadata": {
    "colab": {
      "provenance": []
    },
    "kernelspec": {
      "name": "python3",
      "display_name": "Python 3"
    },
    "language_info": {
      "name": "python"
    },
    "widgets": {
      "application/vnd.jupyter.widget-state+json": {
        "cb0cd68b479740a1a4239cd4c7fa8171": {
          "model_module": "@jupyter-widgets/controls",
          "model_name": "VBoxModel",
          "model_module_version": "1.5.0",
          "state": {
            "_dom_classes": [
              "widget-interact"
            ],
            "_model_module": "@jupyter-widgets/controls",
            "_model_module_version": "1.5.0",
            "_model_name": "VBoxModel",
            "_view_count": null,
            "_view_module": "@jupyter-widgets/controls",
            "_view_module_version": "1.5.0",
            "_view_name": "VBoxView",
            "box_style": "",
            "children": [
              "IPY_MODEL_d7c5bbec88884fe99e247064b4c74da2",
              "IPY_MODEL_2098b6adddae4be1b95f0c6b3b0c02d9",
              "IPY_MODEL_5729d47e5f144651ad6cb54b02e037d7"
            ],
            "layout": "IPY_MODEL_25a3b98ec1ac47a7a8a7f2ca661e3e74"
          }
        },
        "d7c5bbec88884fe99e247064b4c74da2": {
          "model_module": "@jupyter-widgets/controls",
          "model_name": "IntSliderModel",
          "model_module_version": "1.5.0",
          "state": {
            "_dom_classes": [],
            "_model_module": "@jupyter-widgets/controls",
            "_model_module_version": "1.5.0",
            "_model_name": "IntSliderModel",
            "_view_count": null,
            "_view_module": "@jupyter-widgets/controls",
            "_view_module_version": "1.5.0",
            "_view_name": "IntSliderView",
            "continuous_update": true,
            "description": "n",
            "description_tooltip": null,
            "disabled": false,
            "layout": "IPY_MODEL_75af466fcb064b58ba48689d1256fb77",
            "max": 100,
            "min": 1,
            "orientation": "horizontal",
            "readout": true,
            "readout_format": "d",
            "step": 1,
            "style": "IPY_MODEL_27d4aa7476ad4a1ab01658da1a1e8654",
            "value": 100
          }
        },
        "2098b6adddae4be1b95f0c6b3b0c02d9": {
          "model_module": "@jupyter-widgets/controls",
          "model_name": "FloatSliderModel",
          "model_module_version": "1.5.0",
          "state": {
            "_dom_classes": [],
            "_model_module": "@jupyter-widgets/controls",
            "_model_module_version": "1.5.0",
            "_model_name": "FloatSliderModel",
            "_view_count": null,
            "_view_module": "@jupyter-widgets/controls",
            "_view_module_version": "1.5.0",
            "_view_name": "FloatSliderView",
            "continuous_update": true,
            "description": "p",
            "description_tooltip": null,
            "disabled": false,
            "layout": "IPY_MODEL_20a878ee91654b1985a355f88e0ff326",
            "max": 1,
            "min": 0,
            "orientation": "horizontal",
            "readout": true,
            "readout_format": ".2f",
            "step": 0.05,
            "style": "IPY_MODEL_758dab41707b4a0384ade93ef6ba5c8b",
            "value": 1
          }
        },
        "5729d47e5f144651ad6cb54b02e037d7": {
          "model_module": "@jupyter-widgets/output",
          "model_name": "OutputModel",
          "model_module_version": "1.0.0",
          "state": {
            "_dom_classes": [],
            "_model_module": "@jupyter-widgets/output",
            "_model_module_version": "1.0.0",
            "_model_name": "OutputModel",
            "_view_count": null,
            "_view_module": "@jupyter-widgets/output",
            "_view_module_version": "1.0.0",
            "_view_name": "OutputView",
            "layout": "IPY_MODEL_98a60f2598e842178761de0f291e6463",
            "msg_id": "",
            "outputs": [
              {
                "output_type": "display_data",
                "data": {
                  "text/plain": "<Figure size 800x600 with 1 Axes>",
                  "image/png": "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\n"
                },
                "metadata": {}
              }
            ]
          }
        },
        "25a3b98ec1ac47a7a8a7f2ca661e3e74": {
          "model_module": "@jupyter-widgets/base",
          "model_name": "LayoutModel",
          "model_module_version": "1.2.0",
          "state": {
            "_model_module": "@jupyter-widgets/base",
            "_model_module_version": "1.2.0",
            "_model_name": "LayoutModel",
            "_view_count": null,
            "_view_module": "@jupyter-widgets/base",
            "_view_module_version": "1.2.0",
            "_view_name": "LayoutView",
            "align_content": null,
            "align_items": null,
            "align_self": null,
            "border": null,
            "bottom": null,
            "display": null,
            "flex": null,
            "flex_flow": null,
            "grid_area": null,
            "grid_auto_columns": null,
            "grid_auto_flow": null,
            "grid_auto_rows": null,
            "grid_column": null,
            "grid_gap": null,
            "grid_row": null,
            "grid_template_areas": null,
            "grid_template_columns": null,
            "grid_template_rows": null,
            "height": null,
            "justify_content": null,
            "justify_items": null,
            "left": null,
            "margin": null,
            "max_height": null,
            "max_width": null,
            "min_height": null,
            "min_width": null,
            "object_fit": null,
            "object_position": null,
            "order": null,
            "overflow": null,
            "overflow_x": null,
            "overflow_y": null,
            "padding": null,
            "right": null,
            "top": null,
            "visibility": null,
            "width": null
          }
        },
        "75af466fcb064b58ba48689d1256fb77": {
          "model_module": "@jupyter-widgets/base",
          "model_name": "LayoutModel",
          "model_module_version": "1.2.0",
          "state": {
            "_model_module": "@jupyter-widgets/base",
            "_model_module_version": "1.2.0",
            "_model_name": "LayoutModel",
            "_view_count": null,
            "_view_module": "@jupyter-widgets/base",
            "_view_module_version": "1.2.0",
            "_view_name": "LayoutView",
            "align_content": null,
            "align_items": null,
            "align_self": null,
            "border": null,
            "bottom": null,
            "display": null,
            "flex": null,
            "flex_flow": null,
            "grid_area": null,
            "grid_auto_columns": null,
            "grid_auto_flow": null,
            "grid_auto_rows": null,
            "grid_column": null,
            "grid_gap": null,
            "grid_row": null,
            "grid_template_areas": null,
            "grid_template_columns": null,
            "grid_template_rows": null,
            "height": null,
            "justify_content": null,
            "justify_items": null,
            "left": null,
            "margin": null,
            "max_height": null,
            "max_width": null,
            "min_height": null,
            "min_width": null,
            "object_fit": null,
            "object_position": null,
            "order": null,
            "overflow": null,
            "overflow_x": null,
            "overflow_y": null,
            "padding": null,
            "right": null,
            "top": null,
            "visibility": null,
            "width": null
          }
        },
        "27d4aa7476ad4a1ab01658da1a1e8654": {
          "model_module": "@jupyter-widgets/controls",
          "model_name": "SliderStyleModel",
          "model_module_version": "1.5.0",
          "state": {
            "_model_module": "@jupyter-widgets/controls",
            "_model_module_version": "1.5.0",
            "_model_name": "SliderStyleModel",
            "_view_count": null,
            "_view_module": "@jupyter-widgets/base",
            "_view_module_version": "1.2.0",
            "_view_name": "StyleView",
            "description_width": "",
            "handle_color": null
          }
        },
        "20a878ee91654b1985a355f88e0ff326": {
          "model_module": "@jupyter-widgets/base",
          "model_name": "LayoutModel",
          "model_module_version": "1.2.0",
          "state": {
            "_model_module": "@jupyter-widgets/base",
            "_model_module_version": "1.2.0",
            "_model_name": "LayoutModel",
            "_view_count": null,
            "_view_module": "@jupyter-widgets/base",
            "_view_module_version": "1.2.0",
            "_view_name": "LayoutView",
            "align_content": null,
            "align_items": null,
            "align_self": null,
            "border": null,
            "bottom": null,
            "display": null,
            "flex": null,
            "flex_flow": null,
            "grid_area": null,
            "grid_auto_columns": null,
            "grid_auto_flow": null,
            "grid_auto_rows": null,
            "grid_column": null,
            "grid_gap": null,
            "grid_row": null,
            "grid_template_areas": null,
            "grid_template_columns": null,
            "grid_template_rows": null,
            "height": null,
            "justify_content": null,
            "justify_items": null,
            "left": null,
            "margin": null,
            "max_height": null,
            "max_width": null,
            "min_height": null,
            "min_width": null,
            "object_fit": null,
            "object_position": null,
            "order": null,
            "overflow": null,
            "overflow_x": null,
            "overflow_y": null,
            "padding": null,
            "right": null,
            "top": null,
            "visibility": null,
            "width": null
          }
        },
        "758dab41707b4a0384ade93ef6ba5c8b": {
          "model_module": "@jupyter-widgets/controls",
          "model_name": "SliderStyleModel",
          "model_module_version": "1.5.0",
          "state": {
            "_model_module": "@jupyter-widgets/controls",
            "_model_module_version": "1.5.0",
            "_model_name": "SliderStyleModel",
            "_view_count": null,
            "_view_module": "@jupyter-widgets/base",
            "_view_module_version": "1.2.0",
            "_view_name": "StyleView",
            "description_width": "",
            "handle_color": null
          }
        },
        "98a60f2598e842178761de0f291e6463": {
          "model_module": "@jupyter-widgets/base",
          "model_name": "LayoutModel",
          "model_module_version": "1.2.0",
          "state": {
            "_model_module": "@jupyter-widgets/base",
            "_model_module_version": "1.2.0",
            "_model_name": "LayoutModel",
            "_view_count": null,
            "_view_module": "@jupyter-widgets/base",
            "_view_module_version": "1.2.0",
            "_view_name": "LayoutView",
            "align_content": null,
            "align_items": null,
            "align_self": null,
            "border": null,
            "bottom": null,
            "display": null,
            "flex": null,
            "flex_flow": null,
            "grid_area": null,
            "grid_auto_columns": null,
            "grid_auto_flow": null,
            "grid_auto_rows": null,
            "grid_column": null,
            "grid_gap": null,
            "grid_row": null,
            "grid_template_areas": null,
            "grid_template_columns": null,
            "grid_template_rows": null,
            "height": null,
            "justify_content": null,
            "justify_items": null,
            "left": null,
            "margin": null,
            "max_height": null,
            "max_width": null,
            "min_height": null,
            "min_width": null,
            "object_fit": null,
            "object_position": null,
            "order": null,
            "overflow": null,
            "overflow_x": null,
            "overflow_y": null,
            "padding": null,
            "right": null,
            "top": null,
            "visibility": null,
            "width": null
          }
        }
      }
    }
  },
  "cells": [
    {
      "cell_type": "markdown",
      "source": [
        "## Binomial Distribution\n",
        "The binomial distribution is a discrete probability distribution. It describes the outcome of binary scenarios, e.g. flipping a coin. It is characterised by two parameters: the number of trials (n) and the probability of success (p) in each trial.\n"
      ],
      "metadata": {
        "id": "DA28cswZsDMV"
      }
    },
    {
      "cell_type": "code",
      "execution_count": null,
      "metadata": {
        "id": "8xKfr95ag99r"
      },
      "outputs": [],
      "source": [
        "import numpy as np\n",
        "import matplotlib.pyplot as plt\n",
        "import seaborn as sns\n",
        "# Import interact.\n",
        "from ipywidgets import interact"
      ]
    },
    {
      "cell_type": "code",
      "source": [
        "# Binomial distribution simulation:\n",
        "# Number of trials and probability of success.\n",
        "n, p = 10, 0.5\n",
        "binomial_sample = np.random.binomial(n, p, 1000)"
      ],
      "metadata": {
        "id": "Y95lU2d5h3-7"
      },
      "execution_count": null,
      "outputs": []
    },
    {
      "cell_type": "code",
      "source": [
        "# Plot the binomial distribution.\n",
        "plt.figure(figsize=(8, 6))\n",
        "sns.histplot(binomial_sample,\n",
        "             bins=10, kde=False,\n",
        "             color='green')\n",
        "plt.title('Binomial distribution (n=1000, p=0.5)')\n",
        "plt.xlabel('Number of successes')\n",
        "plt.ylabel('Frequency')\n",
        "plt.show()"
      ],
      "metadata": {
        "colab": {
          "base_uri": "https://localhost:8080/",
          "height": 564
        },
        "id": "bKQdMixzh7CL",
        "outputId": "06831b44-8c94-4629-e1e6-0873f5a96f0e"
      },
      "execution_count": null,
      "outputs": [
        {
          "output_type": "display_data",
          "data": {
            "text/plain": [
              "<Figure size 800x600 with 1 Axes>"
            ],
            "image/png": "[encoded data removed]"
          },
          "metadata": {}
        }
      ]
    },
    {
      "cell_type": "markdown",
      "source": [
        "Using interact, the number of trials and the probability of success can be adjusted to observe how the distribution changes. This is particularly useful in understanding phenomena with binary outcomes, like success/failure, yes/no, etc.\n"
      ],
      "metadata": {
        "id": "kLsTtjySsF2B"
      }
    },
    {
      "cell_type": "code",
      "source": [
        "# Function to update the binomial distribution plot.\n",
        "def update_binomial_plot(n, p):\n",
        "    plt.figure(figsize=(8, 6))\n",
        "    binomial_sample = np.random.binomial(n, p, 1000)\n",
        "    sns.histplot(binomial_sample, bins=n, kde=False, color='green')\n",
        "    plt.title(f'Binomial Distribution (n={n}, p={p})')\n",
        "    plt.xlabel('Number of Successes')\n",
        "    plt.ylabel('Frequency')\n",
        "    plt.show()\n",
        "\n",
        "# Interactive sliders for number of trials and probability of success.\n",
        "interact(update_binomial_plot, n=(1, 100, 1), p=(0, 1, 0.05))"
      ],
      "metadata": {
        "colab": {
          "base_uri": "https://localhost:8080/",
          "height": 646,
          "referenced_widgets": [
            "cb0cd68b479740a1a4239cd4c7fa8171",
            "d7c5bbec88884fe99e247064b4c74da2",
            "2098b6adddae4be1b95f0c6b3b0c02d9",
            "5729d47e5f144651ad6cb54b02e037d7",
            "25a3b98ec1ac47a7a8a7f2ca661e3e74",
            "75af466fcb064b58ba48689d1256fb77",
            "27d4aa7476ad4a1ab01658da1a1e8654",
            "20a878ee91654b1985a355f88e0ff326",
            "758dab41707b4a0384ade93ef6ba5c8b",
            "98a60f2598e842178761de0f291e6463"
          ]
        },
        "id": "UXCobUiyk2nB",
        "outputId": "b2939ebf-a5d6-485b-fbfc-aaa9a6155684"
      },
      "execution_count": null,
      "outputs": [
        {
          "output_type": "display_data",
          "data": {
            "text/plain": [
              "interactive(children=(IntSlider(value=50, description='n', min=1), FloatSlider(value=0.0, description='p', max…"
            ],
            "application/vnd.jupyter.widget-view+json": {
              "version_major": 2,
              "version_minor": 0,
              "model_id": "cb0cd68b479740a1a4239cd4c7fa8171"
            }
          },
          "metadata": {}
        },
        {
          "output_type": "execute_result",
          "data": {
            "text/plain": [
              "<function __main__.update_binomial_plot(n, p)>"
            ]
          },
          "metadata": {},
          "execution_count": 9
        }
      ]
    }
  ]
}