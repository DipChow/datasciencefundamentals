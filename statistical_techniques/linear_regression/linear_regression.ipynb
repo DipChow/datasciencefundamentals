{
  "cells": [
    {
      "metadata": {
        "id": "16Mxn-JsCoEl"
      },
      "cell_type": "markdown",
      "source": [
        "# Predicting with regression\n",
        "\n",
        "- the difference between simple and multiple linear regression\n",
        "- how to perform a simple linear regression\n",
        "- how to perform a multiple linear regression.\n"
      ]
    },
    {
      "cell_type": "markdown",
      "source": [
        "### a) Simple linear regression is given as:\n",
        "$y=β_0+β_1x+ε$\n",
        "\n",
        "where:\n",
        "- $y$ is the dependent variable (response).\n",
        "- $x$ is the independent variable (predictor).\n",
        "- $β_0$ is the y-intercept.\n",
        "- $β_1$ is the slope.\n",
        "- $ε$ is the error term."
      ],
      "metadata": {
        "id": "Rjp6yOuQn2GK"
      }
    },
    {
      "cell_type": "code",
      "source": [
        "# Import the required libraries.\n",
        "import numpy as np\n",
        "import matplotlib.pyplot as plt"
      ],
      "metadata": {
        "id": "clyW0HDavyAJ"
      },
      "execution_count": null,
      "outputs": []
    },
    {
      "cell_type": "code",
      "source": [
        "# Create a data set.\n",
        "x = np.array([1, 2, 3, 4, 5,\n",
        "              6, 7, 8, 9, 10])\n",
        "y = np.array([2, 3, 4, 5, 6,\n",
        "              7, 8, 9, 10, 11])\n",
        "\n",
        "# Calculate the mean of x and y.\n",
        "mean_x = np.mean(x)\n",
        "mean_y = np.mean(y)"
      ],
      "metadata": {
        "id": "foQEi_qdwBZ4"
      },
      "execution_count": null,
      "outputs": []
    },
    {
      "cell_type": "code",
      "source": [
        "# Calculate the slope (Beta none) and y-intercept (Beta nul).\n",
        "numerator = np.sum((x - mean_x) * (y - mean_y))\n",
        "denominator = np.sum((x - mean_x)**2)\n",
        "\n",
        "slope = numerator / denominator\n",
        "\n",
        "intercept = mean_y - slope * mean_x"
      ],
      "metadata": {
        "id": "o78nGywwwBXd"
      },
      "execution_count": null,
      "outputs": []
    },
    {
      "cell_type": "code",
      "source": [
        "# Predict y values using the linear regression equation.\n",
        "predicted_y = slope * x + intercept\n",
        "\n",
        "# View output.\n",
        "predicted_y"
      ],
      "metadata": {
        "colab": {
          "base_uri": "https://localhost:8080/"
        },
        "id": "Bx32G4NywBUz",
        "outputId": "701d8cfd-5207-4677-816f-c7e8dca893ae"
      },
      "execution_count": null,
      "outputs": [
        {
          "output_type": "execute_result",
          "data": {
            "text/plain": [
              "array([ 2.,  3.,  4.,  5.,  6.,  7.,  8.,  9., 10., 11.])"
            ]
          },
          "metadata": {},
          "execution_count": 4
        }
      ]
    },
    {
      "cell_type": "code",
      "source": [
        "# Calculate R-squared to test accuracy.\n",
        "ss_total = np.sum((y - np.mean(y))**2)\n",
        "ss_residual = np.sum((y - predicted_y)**2)\n",
        "r_squared = 1 - (ss_residual / ss_total)"
      ],
      "metadata": {
        "id": "UbZ8MO2qwBSM"
      },
      "execution_count": null,
      "outputs": []
    },
    {
      "cell_type": "code",
      "source": [
        "# Display coefficients and R-squared.\n",
        "print(\"Slope (x):\", slope)\n",
        "print(\"Intercept:\", intercept)\n",
        "print(\"R-squared:\", r_squared)"
      ],
      "metadata": {
        "colab": {
          "base_uri": "https://localhost:8080/"
        },
        "id": "ZXWYQP0BwBPl",
        "outputId": "89447b48-0907-4c13-8584-dc953fbd94b3"
      },
      "execution_count": null,
      "outputs": [
        {
          "output_type": "stream",
          "name": "stdout",
          "text": [
            "Slope (x): 1.0\n",
            "Intercept: 1.0\n",
            "R-squared: 1.0\n"
          ]
        }
      ]
    },
    {
      "cell_type": "code",
      "source": [
        "# Plot the original data points.\n",
        "plt.scatter(x, y,\n",
        "            color='blue',\n",
        "            label='Original Data')\n",
        "\n",
        "# Plot the regression line.\n",
        "plt.plot(x, predicted_y,\n",
        "         color='red',\n",
        "         label='Regression Line')\n",
        "\n",
        "# Annotate the equation of the line and R-squared.\n",
        "equation = f'y = {slope:.2f}x + {intercept:.2f}\\nR-squared = {r_squared:.2f}'\n",
        "#: indicates start of format specification\n",
        "#.2 specifies 2 decimal places\n",
        "#f indicates fixed-point number (decimal)\n",
        "plt.annotate(equation,\n",
        "             xy=(7, 5),\n",
        "             fontsize=12,\n",
        "             color='green')\n",
        "\n",
        "# Add labels and a legend.\n",
        "plt.xlabel('X')\n",
        "plt.ylabel('Y')\n",
        "plt.legend()\n",
        "\n",
        "# View the plot.\n",
        "plt.show()"
      ],
      "metadata": {
        "colab": {
          "base_uri": "https://localhost:8080/",
          "height": 449
        },
        "id": "EI84kmhdnPpj",
        "outputId": "019d4675-fa23-4f08-d445-18593135e0b6"
      },
      "execution_count": null,
      "outputs": [
        {
          "output_type": "display_data",
          "data": {
            "text/plain": [
              "<Figure size 640x480 with 1 Axes>"
            ],
            "image/png": "[encoded data removed]"
          },
          "metadata": {}
        }
      ]
    },
    {
      "cell_type": "markdown",
      "source": [
        "### b) Multiple linear regression is given as:\n",
        "$y=β_0+β_1x_1+β_2x_2+ \\dots + β_nx_n +ε$\n",
        "\n",
        "where:\n",
        "- $y$ is the dependent variable (response).\n",
        "- $x_1, x_2, ..., x_n$ is the independent variable (predictor).\n",
        "- $β_0$ is the y-intercept.\n",
        "- $β_1, β_2,...,β_n$ is the slope.\n",
        "- $ε$ is the error term."
      ],
      "metadata": {
        "id": "X4xHoTjAn0xS"
      }
    },
    {
      "cell_type": "code",
      "source": [
        "# Import the required libraries.\n",
        "import numpy as np\n",
        "import matplotlib.pyplot as plt"
      ],
      "metadata": {
        "id": "2WYY2ntAnAG0"
      },
      "execution_count": null,
      "outputs": []
    },
    {
      "cell_type": "code",
      "source": [
        "# Create a sample data set.\n",
        "x1 = np.array([1, 2, 3, 4, 5,\n",
        "               6, 7, 8, 9, 10])\n",
        "x2 = np.array([2, 3, 5, 7, 11,\n",
        "               13, 17, 19, 23, 29])\n",
        "y = np.array([2, 3, 4, 5, 6,\n",
        "              7, 8, 9, 10, 11])\n",
        "\n",
        "# Create a matrix X with the independent variables.\n",
        "X = np.column_stack((x1,\n",
        "                     x2,\n",
        "                     np.ones_like(x1)))\n",
        "\n",
        "print(X)"
      ],
      "metadata": {
        "id": "joGwjnt-2Nrk",
        "colab": {
          "base_uri": "https://localhost:8080/"
        },
        "outputId": "5f2b1c4f-4f90-4050-ce85-18974a14f25e"
      },
      "execution_count": null,
      "outputs": [
        {
          "output_type": "stream",
          "name": "stdout",
          "text": [
            "[[ 1  2  1]\n",
            " [ 2  3  1]\n",
            " [ 3  5  1]\n",
            " [ 4  7  1]\n",
            " [ 5 11  1]\n",
            " [ 6 13  1]\n",
            " [ 7 17  1]\n",
            " [ 8 19  1]\n",
            " [ 9 23  1]\n",
            " [10 29  1]]\n"
          ]
        }
      ]
    },
    {
      "cell_type": "code",
      "source": [
        "# Calculate the coefficients using the normal equation.\n",
        "coefficients_X2 = np.linalg.inv(X.T @ X) @ X.T @ y\n",
        "#X.T represents transpose of matrix X\n",
        "#@ means matrix multiplication\n",
        "#X.T @ X is square matrix\n",
        "#np.linalg.inv() calculates inverse of a square matrix\n",
        "#Then you ultiply by inverse of X and then by the vector y which represents the target values (the dependent variable in the regression)\n",
        "\n",
        "# Extract coefficients for each independent variable and the intercept.\n",
        "slope_x1, slope_x2, intercept2 = coefficients_X2"
      ],
      "metadata": {
        "id": "YITlMsod2Nuv"
      },
      "execution_count": null,
      "outputs": []
    },
    {
      "cell_type": "markdown",
      "source": [
        "![Screenshot 2024-08-02 at 11.48.36.png](data:image/png;base64,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)"
      ],
      "metadata": {
        "id": "6vkP--cutCfl"
      }
    },
    {
      "cell_type": "code",
      "source": [
        "# Calculate predicted y values.\n",
        "pred_y = slope_x1 * x1 + slope_x2 * x2 + intercept2\n",
        "\n",
        "# View the output.\n",
        "pred_y"
      ],
      "metadata": {
        "colab": {
          "base_uri": "https://localhost:8080/"
        },
        "id": "M2RSspf42NxW",
        "outputId": "8fac466e-b9a7-415d-c05d-6b5b816399ee"
      },
      "execution_count": null,
      "outputs": [
        {
          "output_type": "execute_result",
          "data": {
            "text/plain": [
              "array([ 2.,  3.,  4.,  5.,  6.,  7.,  8.,  9., 10., 11.])"
            ]
          },
          "metadata": {},
          "execution_count": 11
        }
      ]
    },
    {
      "cell_type": "code",
      "source": [
        "# Calculate R-squared.\n",
        "ss_total = np.sum((y - np.mean(y))**2)\n",
        "ss_residual = np.sum((y - pred_y)**2)\n",
        "r_squared2 = 1 - (ss_residual / ss_total)\n",
        "\n",
        "# Display coefficients and R-squared.\n",
        "print(\"Slope (x1):\", slope_x1)\n",
        "print(\"Slope (x2):\", slope_x2)\n",
        "print(\"Intercept:\", intercept2)\n",
        "print(\"R-squared:\", r_squared2)"
      ],
      "metadata": {
        "colab": {
          "base_uri": "https://localhost:8080/"
        },
        "id": "_6h71FA72Nz7",
        "outputId": "e1fb9696-2130-4830-a74c-88108188f0ac"
      },
      "execution_count": null,
      "outputs": [
        {
          "output_type": "stream",
          "name": "stdout",
          "text": [
            "Slope (x1): 1.000000000000011\n",
            "Slope (x2): 2.4424906541753444e-15\n",
            "Intercept: 1.0000000000000062\n",
            "R-squared: 1.0\n"
          ]
        }
      ]
    },
    {
      "cell_type": "markdown",
      "source": [
        "# Key information\n",
        "Simple linear regression compares one independent and one dependent variable, while a multiple linear regression compares two or more independent variables to a single dependent variable."
      ],
      "metadata": {
        "id": "DRV_T04wquOl"
      }
    }
  ],
  "metadata": {
    "kernelspec": {
      "display_name": "Python 3",
      "language": "python",
      "name": "python3"
    },
    "language_info": {
      "name": "python",
      "version": "3.6.4",
      "mimetype": "text/x-python",
      "codemirror_mode": {
        "name": "ipython",
        "version": 3
      },
      "pygments_lexer": "ipython3",
      "nbconvert_exporter": "python",
      "file_extension": ".py"
    },
    "colab": {
      "provenance": []
    }
  },
  "nbformat": 4,
  "nbformat_minor": 0
}